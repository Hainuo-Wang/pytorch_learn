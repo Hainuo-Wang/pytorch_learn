{
 "cells": [
  {
   "cell_type": "markdown",
   "metadata": {
    "pycharm": {
     "name": "#%% md\n"
    }
   },
   "source": [
    "# pytorch深度学习实践\n",
    "\n",
    "https://www.bilibili.com/video/BV1hE411t7RN?spm_id_from=333.1007.top_right_bar_window_history.content.click&vd_source=6d033c01bacc1b94de92d9ff542bdb52"
   ]
  },
  {
   "cell_type": "markdown",
   "metadata": {
    "pycharm": {
     "name": "#%% md\n"
    }
   },
   "source": [
    "加载数据<br>如何读取数据："
   ]
  },
  {
   "cell_type": "code",
   "execution_count": null,
   "metadata": {
    "pycharm": {
     "name": "#%%\n"
    }
   },
   "outputs": [],
   "source": [
    "from PIL import Image\n",
    "image_path=r\"D:\\python\\learn_pytorch\\hymenoptera_data\\train\\ants\\0013035.jpg\"\n",
    "image=Image.open(image_path)\n",
    "image.show()"
   ]
  },
  {
   "cell_type": "markdown",
   "metadata": {
    "pycharm": {
     "name": "#%% md\n"
    }
   },
   "source": [
    "（利用os集抓取数据集名称集(img_path是个列表，dirpath是所有图片所在的文件夹路径）"
   ]
  },
  {
   "cell_type": "markdown",
   "metadata": {
    "pycharm": {
     "name": "#%% md\n"
    }
   },
   "source": [
    "如何将每个图片的label作为txt文件写入另外一个文件夹（txt文件名与图片文件名相同）"
   ]
  },
  {
   "cell_type": "code",
   "execution_count": null,
   "metadata": {
    "pycharm": {
     "name": "#%%\n"
    }
   },
   "outputs": [],
   "source": [
    "import os\n",
    "root_dir=r\"D:\\python\\learn_pytorch\\hymenoptera_data\\train\"\n",
    "target_dir=\"ants_img\"\n",
    "img_path_list=os.listdir(os.path.join(root_dir,target_dir))\n",
    "label=target_dir.split('_')[0]\n",
    "out_dir=\"ants_label\"\n",
    "for i in img_path_list:\n",
    "    file_name=i.split('.jpg')[0]\n",
    "    f=open((os.path.join(root_dir,out_dir,format(file_name))+\".txt\"),'w')\n",
    "    f.write(label)\n",
    "    f.close()"
   ]
  },
  {
   "cell_type": "markdown",
   "metadata": {
    "pycharm": {
     "name": "#%% md\n"
    }
   },
   "source": [
    "注意：open函数在文件夹中没有该文件时会自动创建一个。"
   ]
  },
  {
   "cell_type": "markdown",
   "metadata": {
    "pycharm": {
     "name": "#%% md\n"
    }
   },
   "source": [
    "tensorboard的summary writer"
   ]
  },
  {
   "cell_type": "code",
   "execution_count": null,
   "metadata": {
    "pycharm": {
     "name": "#%%\n"
    }
   },
   "outputs": [],
   "source": [
    "from torch.utils.tensorboard import SummaryWriter\n",
    "writer=SummaryWriter(\"logs\")#创建实例文件夹“logs”\n",
    "#writer.add_image()\n",
    "for i in range(1,100):\n",
    "    writer.add_scalar(\"y=2x\",2*i,i)\n",
    " \n",
    "writer.close()"
   ]
  },
  {
   "cell_type": "markdown",
   "metadata": {
    "pycharm": {
     "name": "#%% md\n"
    }
   },
   "source": [
    "如何打开tensorboard的事件文件（logs）"
   ]
  },
  {
   "cell_type": "code",
   "execution_count": null,
   "metadata": {
    "pycharm": {
     "name": "#%%\n"
    }
   },
   "outputs": [],
   "source": [
    "(pytorch) D:\\python\\learn_pytorch>tensorboard --logdir=logs --port=6007"
   ]
  },
  {
   "cell_type": "markdown",
   "metadata": {
    "pycharm": {
     "name": "#%% md\n"
    }
   },
   "source": [
    "处理图片："
   ]
  },
  {
   "cell_type": "code",
   "execution_count": null,
   "metadata": {
    "pycharm": {
     "name": "#%%\n"
    }
   },
   "outputs": [],
   "source": [
    "from PIL import Image\n",
    "img=Image.open(path)\n",
    "def add_image(self, tag, img_tensor, global_step=None, walltime=None, dataformats='CHW'):\n",
    "#img_tensor (torch.Tensor, numpy.array, or string/blobname): Image data"
   ]
  },
  {
   "cell_type": "markdown",
   "metadata": {
    "pycharm": {
     "name": "#%% md\n"
    }
   },
   "source": [
    "注意，add_img只能读tensor型或numpy.array型的图片，.img要先转换(先看numpy.array格式）<br>\n",
    "用PIL中的Image 打开的img type是“<class 'PIL.JpegImagePlugin.JpegImageFile'>”<br>\n",
    "利用numpy将img改为numpy形式:"
   ]
  },
  {
   "cell_type": "code",
   "execution_count": null,
   "metadata": {
    "pycharm": {
     "name": "#%%\n"
    }
   },
   "outputs": [],
   "source": [
    "import numpy as np\n",
    "img_array=np.array(img)\n",
    "print(type(img_array))\n",
    "#<class 'numpy.ndarray'>"
   ]
  },
  {
   "cell_type": "markdown",
   "metadata": {
    "pycharm": {
     "name": "#%% md\n"
    }
   },
   "source": [
    "注意add_image的dataformats格式，默认是CHW"
   ]
  },
  {
   "cell_type": "code",
   "execution_count": null,
   "metadata": {
    "pycharm": {
     "name": "#%%\n"
    }
   },
   "outputs": [],
   "source": [
    "def add_image(self, tag, img_tensor, global_step=None, walltime=None, dataformats='CHW')"
   ]
  },
  {
   "cell_type": "markdown",
   "metadata": {
    "pycharm": {
     "name": "#%% md\n"
    }
   },
   "source": [
    "通过print(img_array.shape)以查看img是否为C（通道）H（高度）W（宽度）的形式"
   ]
  },
  {
   "cell_type": "code",
   "execution_count": null,
   "metadata": {
    "pycharm": {
     "name": "#%%\n"
    }
   },
   "outputs": [],
   "source": [
    "print(img_array.shape)\n",
    "#(512, 768, 3)"
   ]
  },
  {
   "cell_type": "markdown",
   "metadata": {
    "pycharm": {
     "name": "#%% md\n"
    }
   },
   "source": [
    "（由此可见img的format是HWC（通道在后），因此要把add_img语句改成"
   ]
  },
  {
   "cell_type": "code",
   "execution_count": null,
   "metadata": {
    "pycharm": {
     "name": "#%%\n"
    }
   },
   "outputs": [],
   "source": [
    "writer.add_image(\"test\",img_array,1,dataformats='HWC')"
   ]
  },
  {
   "cell_type": "markdown",
   "metadata": {
    "pycharm": {
     "name": "#%% md\n"
    }
   },
   "source": [
    "最终代码："
   ]
  },
  {
   "cell_type": "code",
   "execution_count": null,
   "metadata": {
    "pycharm": {
     "name": "#%%\n"
    }
   },
   "outputs": [],
   "source": [
    "from torch.utils.tensorboard import SummaryWriter\n",
    "import numpy as np\n",
    "from PIL import Image\n",
    "writer=SummaryWriter(\"logs\")#创建实例文件夹“logs”\n",
    "img_path=r\"hymenoptera_data/train/ants_img/5650366_e22b7e1065.jpg\"#图片路径\n",
    "img_PIL=Image.open(img_path)#打开PIL格式的图片\n",
    "img_np=np.array(img_PIL)#将该图片转换为numpy.array格式\n",
    "writer.add_image(\"test\",img_np,3,dataformats='HWC')\n",
    "writer.close()"
   ]
  },
  {
   "cell_type": "markdown",
   "metadata": {
    "pycharm": {
     "name": "#%% md\n"
    }
   },
   "source": [
    "torchvision中的transforms<br>\n",
    "pytorch中打开structure（alt+7）可以快捷地浏览transform源文件"
   ]
  },
  {
   "cell_type": "code",
   "execution_count": null,
   "metadata": {
    "pycharm": {
     "name": "#%%\n"
    }
   },
   "outputs": [],
   "source": [
    "class ToTensor:\n",
    "    \"\"\"Convert a ``PIL Image`` or ``numpy.ndarray`` to tensor. This transform does not support torchscript."
   ]
  },
  {
   "cell_type": "markdown",
   "metadata": {
    "pycharm": {
     "name": "#%% md\n"
    }
   },
   "source": [
    "↑ToTensor用处:将PIL（PIL.Image）或numpy.ndarray(cv2)图片转换为tensor格式，可以用于tensorboard中的add_image(见lec7-8）\n",
    "\n",
    "另：使用opencv：pip install opencv-python"
   ]
  },
  {
   "cell_type": "code",
   "execution_count": null,
   "metadata": {
    "pycharm": {
     "name": "#%%\n"
    }
   },
   "outputs": [],
   "source": [
    "import cv2\n",
    "cv_img=cv2.imread(img_path)#cv_img为numpy.ndarray格式"
   ]
  },
  {
   "cell_type": "markdown",
   "metadata": {
    "pycharm": {
     "name": "#%% md\n"
    }
   },
   "source": [
    "最终代码："
   ]
  },
  {
   "cell_type": "code",
   "execution_count": null,
   "metadata": {
    "pycharm": {
     "name": "#%%\n"
    }
   },
   "outputs": [],
   "source": [
    "from torch.utils.tensorboard import SummaryWriter\n",
    "from PIL import Image\n",
    "from torchvision import transforms\n",
    "#transforms是个工具箱\n",
    "writer1=SummaryWriter(\"log1\")#实例化\n",
    "path=r\"hymenoptera_data/train/ants_img/Ant_1.jpg\"#图片路径\n",
    "img=Image.open(path)#以PIL格式打开\n",
    "tensor_trans=transforms.ToTensor()#创建具体的工具\"tensor_trans\"\n",
    "#用法：result=tool（input）\n",
    "img_tensor=tensor_trans(img)\n",
    "writer1.add_image(\"test1\",img_tensor,1)\n",
    "writer1.close()"
   ]
  },
  {
   "cell_type": "markdown",
   "metadata": {
    "pycharm": {
     "name": "#%% md\n"
    }
   },
   "source": [
    "常见的transform"
   ]
  },
  {
   "cell_type": "markdown",
   "metadata": {
    "pycharm": {
     "name": "#%% md\n"
    }
   },
   "source": [
    "小记def __call__与普通def的区别"
   ]
  },
  {
   "cell_type": "code",
   "execution_count": null,
   "metadata": {
    "pycharm": {
     "name": "#%%\n"
    }
   },
   "outputs": [],
   "source": [
    "class person:\n",
    "    def __call__(self, other):\n",
    "        print(other)\n",
    "    def hello(self,name):\n",
    "        print(\"Hello\"+name)\n",
    "person1=person()#实例化\n",
    "person1.hello(\"li4\")\n",
    "person1(\"zhang3\")#将zhang3赋给__call__\n",
    "#output：\n",
    "#Helloli4\n",
    "#zhang3"
   ]
  },
  {
   "cell_type": "markdown",
   "metadata": {
    "pycharm": {
     "name": "#%% md\n"
    }
   },
   "source": [
    "Normalize："
   ]
  },
  {
   "cell_type": "code",
   "execution_count": null,
   "metadata": {
    "pycharm": {
     "name": "#%%\n"
    }
   },
   "outputs": [],
   "source": [
    "img_tensor.size()\n",
    "# torch.Size([3, 272, 199])"
   ]
  },
  {
   "cell_type": "markdown",
   "metadata": {
    "pycharm": {
     "name": "#%% md\n"
    }
   },
   "source": [
    "这说明img_tensor是一个有三个通道、高272、宽199的图片(rgb通道原本是[0,255]，但tensor将其压缩到了[0,1])<br>\n",
    "tensor格式图片的内容：[C[H[W]]]"
   ]
  },
  {
   "cell_type": "markdown",
   "metadata": {
    "pycharm": {
     "name": "#%% md\n"
    }
   },
   "source": [
    "Normalize函数需求均值、标准差，且图片为rgb格式需求三通道。因此由以下格式："
   ]
  },
  {
   "cell_type": "code",
   "execution_count": null,
   "metadata": {
    "pycharm": {
     "name": "#%%\n"
    }
   },
   "outputs": [],
   "source": [
    "#Normalize\n",
    "trans_norm=transforms.Normalize([0.5,0.5,0.5],[0.5,0.5,0.5])\n",
    "print(img_tensor[0][0][0])\n",
    "img_norm=trans_norm(img_tensor)\n",
    "print(img_norm[0][0][0])\n",
    "writer.add_image(\"test1\",img_norm,1)\n",
    "writer.close()\n",
    " \n",
    "#output:\n",
    "#tensor(0.3725)\n",
    "#tensor(-0.2549)"
   ]
  },
  {
   "cell_type": "markdown",
   "metadata": {
    "pycharm": {
     "name": "#%% md\n"
    }
   },
   "source": [
    "Resize\n",
    "\n",
    "改变图片大小（H，W）"
   ]
  },
  {
   "cell_type": "code",
   "execution_count": null,
   "metadata": {
    "pycharm": {
     "name": "#%%\n"
    }
   },
   "outputs": [],
   "source": [
    "#Resize\n",
    "trans_resize=transforms.Resize((512,512))\n",
    "img_resize=trans_resize(img_tensor)\n",
    "print(type(img_resize))\n",
    "writer.add_image(\"test1\",img_resize,2)"
   ]
  },
  {
   "cell_type": "markdown",
   "metadata": {
    "pycharm": {
     "name": "#%% md\n"
    }
   },
   "source": [
    "Compose(合并）\n",
    "\n",
    "注意，由于norm与resize需要tensor数据类型，所以trans_tensor需要放在最前面"
   ]
  },
  {
   "cell_type": "code",
   "execution_count": null,
   "metadata": {
    "pycharm": {
     "name": "#%%\n"
    }
   },
   "outputs": [],
   "source": [
    "#compose的变量是transforms工具的列表,实现多个功能顺序执行\n",
    "trans_compose=transforms.Compose([trans_totensor,trans_resize,trans_norm])\n",
    "img_compose=trans_compose(img)\n",
    "writer.add_image(\"test1\",img_compose,3)\n",
    "writer.close()"
   ]
  },
  {
   "cell_type": "markdown",
   "metadata": {
    "pycharm": {
     "name": "#%% md\n"
    }
   },
   "source": [
    "RandomCrop随机裁剪"
   ]
  },
  {
   "cell_type": "code",
   "execution_count": null,
   "metadata": {
    "pycharm": {
     "name": "#%%\n"
    }
   },
   "outputs": [],
   "source": [
    "#RandomCrop\n",
    "trans_rc=transforms.RandomCrop((122,100))#裁剪大小\n",
    "img_rc=trans_rc(img_tensor)\n",
    "img_rc=trans_rc(img_tensor)\n",
    "writer.add_image(\"test1\",img_rc,4)\n",
    "writer.close()"
   ]
  },
  {
   "cell_type": "markdown",
   "metadata": {
    "pycharm": {
     "name": "#%% md\n"
    }
   },
   "source": [
    "transform最终代码："
   ]
  },
  {
   "cell_type": "code",
   "execution_count": null,
   "metadata": {
    "pycharm": {
     "name": "#%%\n"
    }
   },
   "outputs": [],
   "source": [
    "from torch.utils.data import Dataset, DataLoader\n",
    "from PIL import Image\n",
    "import os\n",
    "from torchvision import transforms\n",
    "\n",
    "class MyData(Dataset):\n",
    "\n",
    "    def __init__(self, root_dir, image_dir, label_dir, transform=None):\n",
    "        self.root_dir = root_dir\n",
    "        self.image_dir = image_dir\n",
    "        self.label_dir = label_dir\n",
    "        self.label_path = os.path.join(self.root_dir, self.label_dir)\n",
    "        self.image_path = os.path.join(self.root_dir, self.image_dir)\n",
    "        self.image_list = os.listdir(self.image_path)\n",
    "        self.label_list = os.listdir(self.label_path)\n",
    "        self.transform = transform\n",
    "        # 因为label 和 Image文件名相同，进行一样的排序，可以保证取出的数据和label是一一对应的\n",
    "        self.image_list.sort()\n",
    "        self.label_list.sort()\n",
    "\n",
    "    def __getitem__(self, idx):\n",
    "        img_name = self.image_list[idx]\n",
    "        label_name = self.label_list[idx]\n",
    "        img_item_path = os.path.join(self.root_dir, self.image_dir, img_name)\n",
    "        label_item_path = os.path.join(self.root_dir, self.label_dir, label_name)\n",
    "        img = Image.open(img_item_path)\n",
    "        with open(label_item_path, 'r') as f:\n",
    "            label = f.readline()\n",
    "\n",
    "        if self.transform:\n",
    "            img = transform(img)\n",
    "\n",
    "\n",
    "        return img, label\n",
    "\n",
    "    def __len__(self):\n",
    "        assert len(self.image_list) == len(self.label_list)\n",
    "        return len(self.image_list)\n",
    "\n",
    "\n",
    "transform = transforms.Compose([transforms.Resize(400), transforms.ToTensor()])\n",
    "root_dir = \"dataset/train\"\n",
    "image_ants = \"ants_image\"\n",
    "label_ants = \"ants_label\"\n",
    "ants_dataset = MyData(root_dir, image_ants, label_ants, transform=transform)\n",
    "image_bees = \"bees_image\"\n",
    "label_bees = \"bees_label\"\n",
    "bees_dataset = MyData(root_dir, image_bees, label_bees, transform=transform)"
   ]
  },
  {
   "cell_type": "markdown",
   "metadata": {
    "pycharm": {
     "name": "#%% md\n"
    }
   },
   "source": [
    "torchvision数据集"
   ]
  },
  {
   "cell_type": "markdown",
   "metadata": {
    "pycharm": {
     "name": "#%% md\n"
    }
   },
   "source": [
    "pytorch官网-docs-torchvision-packa reference下载数据集（以CIFAR为例）\n",
    "\n",
    "torchvision.datasets.CIFAR10(root: str, train: bool = True, transform: Optional[Callable] = None, target_transform: Optional[Callable] = None, download: bool = False)\n",
    "\n",
    "root (string) – Root directory of dataset where directory cifar-10-batches-py exists or will be saved to if download is set to True.\n",
    "\n",
    "train (bool, optional) – If True, creates dataset from training set, otherwise creates from test set.\n",
    "\n",
    "transform (callable, optional) – A function/transform that takes in an PIL image and returns a transformed version. E.g, transforms.RandomCrop\n",
    "\n",
    "target_transform (callable, optional) – A function/transform that takes in the target and transforms it.\n",
    "\n",
    "download (bool, optional) – If true, downloads the dataset from the internet and puts it in root directory. If dataset is already downloaded, it is not downloaded again."
   ]
  },
  {
   "cell_type": "code",
   "execution_count": null,
   "metadata": {
    "pycharm": {
     "name": "#%%\n"
    }
   },
   "outputs": [],
   "source": [
    "import torchvision\n",
    "train_set=torchvision.datasets.CIFAR10(root=\"./dataset\",train=True,download=True)\n",
    "test_set=torchvision.datasets.CIFAR10(root=\"./dataset\",train=False,download=True)\n",
    "print(test_set[0])\n",
    "img,labl=test_set[0]\n",
    "print(test_set.classes)\n",
    "print(img)\n",
    "print(labl)\n",
    " \n",
    "output:\n",
    "#(<PIL.Image.Image image mode=RGB size=32x32 at 0x2C0C7D92648>, 3)\n",
    "#['airplane', 'automobile', 'bird', 'cat', 'deer', 'dog', 'frog', 'horse', 'ship', 'truck']\n",
    "#<PIL.Image.Image image mode=RGB size=32x32 at 0x2C0C7D92588>\n",
    "#3\n",
    "#test的第一张图片是PIL格式，RGB形式，大小32x32，其分类为第三类"
   ]
  },
  {
   "cell_type": "markdown",
   "metadata": {
    "pycharm": {
     "name": "#%% md\n"
    }
   },
   "source": [
    "将10个trainset数据写入tensorboard："
   ]
  },
  {
   "cell_type": "code",
   "execution_count": null,
   "metadata": {
    "pycharm": {
     "name": "#%%\n"
    }
   },
   "outputs": [],
   "source": [
    "writer=SummaryWriter(\"p14\")\n",
    "for i in range (10):\n",
    "    img,l=test_set[i]\n",
    "    writer.add_image(\"set1\",img,i)\n",
    "writer.close()"
   ]
  },
  {
   "cell_type": "markdown",
   "metadata": {
    "pycharm": {
     "name": "#%% md\n"
    }
   },
   "source": [
    "MyDataset"
   ]
  },
  {
   "cell_type": "code",
   "execution_count": null,
   "metadata": {
    "pycharm": {
     "name": "#%%\n"
    }
   },
   "outputs": [],
   "source": [
    "from torch.utils.data import Dataset, DataLoader\n",
    "import numpy as np\n",
    "from PIL import Image\n",
    "import os\n",
    "from torchvision import transforms\n",
    "from torch.utils.tensorboard import SummaryWriter\n",
    "from torchvision.utils import make_grid\n",
    "\n",
    "writer = SummaryWriter(\"logs\")\n",
    "\n",
    "class MyData(Dataset):\n",
    "\n",
    "    def __init__(self, root_dir, image_dir, label_dir, transform):\n",
    "        self.root_dir = root_dir\n",
    "        self.image_dir = image_dir\n",
    "        self.label_dir = label_dir\n",
    "        self.label_path = os.path.join(self.root_dir, self.label_dir)\n",
    "        self.image_path = os.path.join(self.root_dir, self.image_dir)\n",
    "        self.image_list = os.listdir(self.image_path)\n",
    "        self.label_list = os.listdir(self.label_path)\n",
    "        self.transform = transform\n",
    "        # 因为label 和 Image文件名相同，进行一样的排序，可以保证取出的数据和label是一一对应的\n",
    "        self.image_list.sort()\n",
    "        self.label_list.sort()\n",
    "\n",
    "    def __getitem__(self, idx):\n",
    "        img_name = self.image_list[idx]\n",
    "        label_name = self.label_list[idx]\n",
    "        img_item_path = os.path.join(self.root_dir, self.image_dir, img_name)\n",
    "        label_item_path = os.path.join(self.root_dir, self.label_dir, label_name)\n",
    "        img = Image.open(img_item_path)\n",
    "\n",
    "        with open(label_item_path, 'r') as f:\n",
    "            label = f.readline()\n",
    "\n",
    "        # img = np.array(img)\n",
    "        img = self.transform(img)\n",
    "        sample = {'img': img, 'label': label}\n",
    "        return sample\n",
    "\n",
    "    def __len__(self):\n",
    "        assert len(self.image_list) == len(self.label_list)\n",
    "        return len(self.image_list)\n",
    "\n",
    "if __name__ == '__main__':\n",
    "    transform = transforms.Compose([transforms.Resize((256, 256)), transforms.ToTensor()])\n",
    "    root_dir = \"dataset/train\"\n",
    "    image_ants = \"ants_image\"\n",
    "    label_ants = \"ants_label\"\n",
    "    ants_dataset = MyData(root_dir, image_ants, label_ants, transform)\n",
    "    image_bees = \"bees_image\"\n",
    "    label_bees = \"bees_label\"\n",
    "    bees_dataset = MyData(root_dir, image_bees, label_bees, transform)\n",
    "    train_dataset = ants_dataset + bees_dataset\n",
    "\n",
    "    # transforms = transforms.Compose([transforms.Resize(256, 256)])\n",
    "    dataloader = DataLoader(train_dataset, batch_size=1, num_workers=2)\n",
    "\n",
    "    writer.add_image('error', train_dataset[119]['img'])\n",
    "    writer.close()\n",
    "    # for i, j in enumerate(dataloader):\n",
    "    #     # imgs, labels = j\n",
    "    #     print(type(j))\n",
    "    #     print(i, j['img'].shape)\n",
    "    #     # writer.add_image(\"train_data_b2\", make_grid(j['img']), i)\n",
    "    #\n",
    "    # writer.close()"
   ]
  },
  {
   "cell_type": "markdown",
   "metadata": {
    "pycharm": {
     "name": "#%% md\n"
    }
   },
   "source": [
    "DataLoader"
   ]
  },
  {
   "cell_type": "markdown",
   "metadata": {
    "pycharm": {
     "name": "#%% md\n"
    }
   },
   "source": [
    "点进dataset源文件查找getitem（）可以查看该数据集返回数据类型（如CIFAR，返回img和target）\n",
    "\n",
    "torch.utils.data.DataLoader(dataset, batch_size=1, shuffle=False, sampler=None, batch_sampler=None, num_workers=0, collate_fn=None, pin_memory=False, drop_last=False, timeout=0, worker_init_fn=None, multiprocessing_context=None, generator=None, *, prefetch_factor=2, persistent_workers=False)\n",
    "\n",
    "dataset (Dataset) – dataset from which to load the data.\n",
    "\n",
    "batch_size (int, optional) – how many samples per batch to load (default: 1).一次取几个\n",
    "\n",
    "shuffle (bool, optional) – set to True to have the data reshuffled at every epoch (default: False).是否打乱顺序\n",
    "\n",
    "drop_last (bool, optional) – set to True to drop the last incomplete batch, if the dataset size is not divisible by the batch size. If False and the size of dataset is not divisible by the batch size, then the last batch will be smaller. (default: False)是否丢弃剩余"
   ]
  },
  {
   "cell_type": "code",
   "execution_count": null,
   "metadata": {
    "pycharm": {
     "name": "#%%\n"
    }
   },
   "outputs": [],
   "source": [
    "import torchvision\n",
    "from torch.utils.data import DataLoader\n",
    "train_set=torchvision.datasets.CIFAR10(root=\"./dataset\",transform=torchvision.transforms.ToTensor(),train=True,download=True)\n",
    "train_loader=DataLoader(dataset=train_set,batch_size=4,shuffle=True,num_workers=0,drop_last=False)\n",
    "for data in train_loader:\n",
    "    imgs,targets=data\n",
    "    print(imgs.shape)\n",
    "    print(targets)\n",
    " \n",
    "#output：\n",
    "#torch.Size([4, 3, 32, 32])#四张图片，每张三通道，32x32\n",
    "#tensor([4, 9, 3, 9]).....#标签"
   ]
  },
  {
   "cell_type": "markdown",
   "metadata": {
    "pycharm": {
     "name": "#%% md\n"
    }
   },
   "source": [
    "多张图片写入tensorboard："
   ]
  },
  {
   "cell_type": "code",
   "execution_count": null,
   "metadata": {
    "pycharm": {
     "name": "#%%\n"
    }
   },
   "outputs": [],
   "source": [
    "step=0\n",
    "writer=SummaryWriter(\"dataloader\")\n",
    "for data in train_loader:\n",
    "    imgs,targets=data\n",
    "    writer.add_images(\"test1\",imgs,step)\n",
    "    step=step+1\n",
    "writer.close()"
   ]
  },
  {
   "cell_type": "markdown",
   "metadata": {
    "pycharm": {
     "name": "#%% md\n"
    }
   },
   "source": [
    "神经网络的基本骨架-nn.Module"
   ]
  },
  {
   "cell_type": "code",
   "execution_count": null,
   "metadata": {
    "pycharm": {
     "name": "#%%\n"
    }
   },
   "outputs": [],
   "source": [
    "from torch import nn\n",
    "import torch\n",
    "class haha(nn.Module):\n",
    "    def __init__(self):\n",
    "        super(haha,self).__init__()#调用父类初始化函数\n",
    "        #自定义\n",
    " \n",
    "    def forward(self,input):#forward一定不能拼错！否则会报错\n",
    "        output=input+1#自定义\n",
    "        return output#自定义\n",
    " \n",
    "c=haha()#实例化\n",
    "x=torch.tensor(1.0)\n",
    "output=c(x)\n",
    "print(output)\n",
    " \n",
    "output\n",
    "#tensor(2.)"
   ]
  },
  {
   "cell_type": "markdown",
   "metadata": {
    "pycharm": {
     "name": "#%% md\n"
    }
   },
   "source": [
    "torch.tensor/torch.Tensor"
   ]
  },
  {
   "cell_type": "markdown",
   "metadata": {
    "pycharm": {
     "name": "#%% md\n"
    }
   },
   "source": [
    "Tensor是class，tensor是func，将数据类型转换为Tensor"
   ]
  },
  {
   "cell_type": "markdown",
   "metadata": {
    "pycharm": {
     "name": "#%% md\n"
    }
   },
   "source": [
    "conv2d卷积"
   ]
  },
  {
   "cell_type": "markdown",
   "metadata": {
    "pycharm": {
     "name": "#%% md\n"
    }
   },
   "source": [
    "卷积核与input矩阵的各个元素乘积和生成一个output矩阵\n",
    "\n",
    "torch.nn.functional.conv2d(input, weight, bias=None, stride=1, padding=0, dilation=1, groups=1) → Tensor\n",
    "\n",
    "input – input tensor of shape (\\text{minibatch} , \\text{in\\_channels} , iH , iW)(minibatch,in_channels,iH,iW) #输入内容\n",
    "\n",
    "weight – filters of shape (\\text{out\\_channels} , \\frac{\\text{in\\_channels}}{\\text{groups}} , kH , kW)(out_channels,groupsin_channels​,kH,kW) #卷积核\n",
    "\n",
    "bias – optional bias tensor of shape (\\text{out\\_channels})(out_channels). Default: None\n",
    "\n",
    "stride – the stride of the convolving kernel. Can be a single number or a tuple (sH, sW). Default: 1 #每次移动几步（tuple可以规定不同方向步数不同）\n",
    "\n",
    "padding –\n",
    "\n",
    "implicit paddings on both sides of the input. Can be a string {‘valid’, ‘same’}, single number or a tuple (padH, padW). Default: 0 padding='valid' is the same as no padding. padding='same' pads the input so the output has the shape as the input. However, this mode doesn’t support any stride values other than 1.#填充输入"
   ]
  },
  {
   "cell_type": "code",
   "execution_count": null,
   "metadata": {
    "pycharm": {
     "name": "#%%\n"
    }
   },
   "outputs": [],
   "source": [
    "import torch\n",
    "import torch.nn.functional as F\n",
    "#输入：5x5矩阵\n",
    "input=torch.tensor([[1,2,0,3,1],\n",
    "                    [0,1,2,3,1],\n",
    "                    [1,2,1,0,0],\n",
    "                    [5,2,3,1,1],\n",
    "                    [2,1,0,1,1]])\n",
    "#卷积核3x3矩阵\n",
    "kernel=torch.tensor([[1,2,1],\n",
    "                     [0,1,0],\n",
    "                     [2,1,0]])\n",
    "#尺寸变换，要对应conv2d input的要求（minibatch=1，channel=1，h，w）\n",
    "input=torch.reshape(input,(1,1,5,5))\n",
    "kernel=torch.reshape(kernel,(1,1,3,3))\n",
    "#stride:每次（在哪个方向）移动几步\n",
    "output=F.conv2d(input,kernel,stride=1)\n",
    "print(output)\n",
    "output1=F.conv2d(input,kernel,stride=2)\n",
    "print(output1)\n",
    "output2=F.conv2d(input,kernel,stride=1,padding=1)\n",
    "print(output2)\n",
    " \n",
    "#output\n",
    "# tensor([[[[10, 12, 12],\n",
    "#           [18, 16, 16],\n",
    "#           [13,  9,  3]]]])\n",
    "# tensor([[[[10, 12],\n",
    "#           [13,  3]]]])\n",
    "# tensor([[[[ 1,  3,  4, 10,  8],\n",
    "#           [ 5, 10, 12, 12,  6],\n",
    "#           [ 7, 18, 16, 16,  8],\n",
    "#           [11, 13,  9,  3,  4],\n",
    "#           [14, 13,  9,  7,  4]]]])"
   ]
  },
  {
   "cell_type": "markdown",
   "metadata": {
    "pycharm": {
     "name": "#%% md\n"
    }
   },
   "source": [
    "神经网络-卷积层Conv2d"
   ]
  },
  {
   "cell_type": "markdown",
   "metadata": {
    "pycharm": {
     "name": "#%% md\n"
    }
   },
   "source": [
    "conv_arithmetic/README.md at master · vdumoulin/conv_arithmetic · GitHub\n",
    "\n",
    "卷积层动图理解（蓝色input，绿色output，深色kernel）\n",
    "\n",
    "torch.nn.Conv2d(in_channels, out_channels, kernel_size, stride=1, padding=0, dilation=1, groups=1, bias=True, padding_mode='zeros', device=None, dtype=None)"
   ]
  },
  {
   "cell_type": "code",
   "execution_count": null,
   "metadata": {
    "pycharm": {
     "name": "#%%\n"
    }
   },
   "outputs": [],
   "source": [
    "import torch\n",
    "import torchvision\n",
    "from torch import nn\n",
    "from torch.utils.data import DataLoader\n",
    "from torch.utils.tensorboard import SummaryWriter\n",
    " \n",
    "dataset=torchvision.datasets.CIFAR10(\"./dataset\",train=False,transform=torchvision.transforms.ToTensor(),download=True)\n",
    "dataloader=DataLoader(dataset=dataset,batch_size=64,shuffle=True,drop_last=False)\n",
    "class test(nn.Module):\n",
    "    def __init__(self):\n",
    "        super(test, self).__init__()\n",
    "        self.conv1=nn.Conv2d(3,6,3,stride=1,padding=0)\n",
    " \n",
    "    def forward(self,x):\n",
    "        x=self.conv1(x)\n",
    "        return x\n",
    "writer=SummaryWriter(\"log1\")\n",
    "test1=test()\n",
    "step=0\n",
    "for data in dataloader:\n",
    "    imgs,t=data\n",
    "    output=test1(imgs)\n",
    "    #torch.size([64,3,32,32])\n",
    "    writer.add_images(\"input\",imgs,step)\n",
    "    #由于图片只能以三个通道显示，因此要把6个channel改成3个\n",
    "    #torch.size([64,6,30,30])->[???,3,30,30]\n",
    "    #batch_size不知道写多少的时候就写-1,它会自动计算\n",
    "    output=torch.reshape(output,(-1,3,30,30))\n",
    "    writer.add_images(\"output\",output,step)\n",
    "    step=step+1\n",
    "writer.close()"
   ]
  },
  {
   "cell_type": "markdown",
   "metadata": {
    "pycharm": {
     "name": "#%% md\n"
    }
   },
   "source": [
    "Pooling layer MaxPool2"
   ]
  },
  {
   "cell_type": "markdown",
   "metadata": {
    "pycharm": {
     "name": "#%% md\n"
    }
   },
   "source": [
    "与卷积不用，池化是选取核中最大数作为output\n",
    "\n",
    "torch.nn.MaxPool2d(kernel_size, stride=None, padding=0, dilation=1, return_indices=False, ceil_mode=False)\n",
    "\n",
    "kernel_size – the size of the window to take a max over\n",
    "\n",
    "stride – the stride of the window. Default value is kernel_size\n",
    "\n",
    "padding – implicit zero padding to be added on both sides\n",
    "\n",
    "dilation – a parameter that controls the stride of elements in the window\n",
    "\n",
    "return_indices – if True, will return the max indices along with the outputs. Useful for torch.nn.MaxUnpool2d later\n",
    "\n",
    "ceil_mode – when True, will use ceil instead of floor to compute the output shape（True则保留多出来的input，False丢弃。）\n",
    "\n",
    "池化：在保留数据特征的情况下减小数据量"
   ]
  },
  {
   "cell_type": "markdown",
   "metadata": {
    "pycharm": {
     "name": "#%% md\n"
    }
   },
   "source": [
    "import torch\n",
    " \n",
    "import torchvision\n",
    "from torch import nn\n",
    "from torch.nn import MaxPool2d\n",
    "from torch.utils.data import DataLoader\n",
    "from torch.utils.tensorboard import SummaryWriter\n",
    " \n",
    "dataset=torchvision.datasets.CIFAR10(\"./dataset\",train=False,transform=torchvision.transforms.ToTensor(),download=True)\n",
    "dataloader=DataLoader(dataset=dataset,batch_size=64,shuffle=True,drop_last=False)\n",
    "#dtype:将数据类型更改为浮点数\n",
    "#输入：5x5矩阵\n",
    "input=torch.tensor([[1,2,0,3,1],\n",
    "                    [0,1,2,3,1],\n",
    "                    [1,2,1,0,0],\n",
    "                    [5,2,3,1,1],\n",
    "                    [2,1,0,1,1]],dtype=torch.float32)\n",
    "input=torch.reshape(input,(-1,1,5,5))\n",
    "class test(nn.Module):\n",
    "    def __init__(self):\n",
    "        super(test, self).__init__()\n",
    "        self.maxpool1=MaxPool2d(kernel_size=3,ceil_mode=True)\n",
    "    def forward(self,input):\n",
    "        output=self.maxpool1(input)\n",
    "        return output\n",
    "test1=test()\n",
    "#矩阵输出\n",
    "print(test1(input))\n",
    "#图像输出\n",
    "writer=SummaryWriter(\"log2\")\n",
    "step=0\n",
    "for data in dataloader:\n",
    "    imgs,t=data\n",
    "    writer.add_images(\"input\", imgs, step)\n",
    "    output=test1(imgs)\n",
    "    #注意，最大池化不会改变channel（input是3通道，output也是三通道）\n",
    "    writer.add_images(\"output\", output, step)\n",
    "    step=step+1\n",
    "writer.close()\n",
    " \n",
    "output:\n",
    "# tensor([[[[2., 3.],\n",
    "#           [5., 1.]]]])"
   ]
  },
  {
   "cell_type": "markdown",
   "metadata": {
    "pycharm": {
     "name": "#%% md\n"
    }
   },
   "source": [
    "非线性激活-Non-Linear Activations"
   ]
  },
  {
   "cell_type": "markdown",
   "metadata": {
    "pycharm": {
     "name": "#%% md\n"
    }
   },
   "source": [
    "ReLU:ReLU\n",
    "\n",
    "将小于0的数据变换成0"
   ]
  },
  {
   "cell_type": "code",
   "execution_count": null,
   "metadata": {
    "pycharm": {
     "name": "#%%\n"
    }
   },
   "outputs": [],
   "source": [
    "input=torch.tensor([[1,-0.5],\n",
    "                    [-1,3]])\n",
    "output=torch.reshape(input,(-1,1,2,2))\n",
    "print(ReLU(output))\n",
    " \n",
    "output:\n",
    "#([[1,0],\n",
    "#  [0,3]])"
   ]
  },
  {
   "cell_type": "markdown",
   "metadata": {
    "pycharm": {
     "name": "#%% md\n"
    }
   },
   "source": [
    "import torchvision\n",
    "from torch import nn\n",
    "from torch.nn import ReLU, Sigmoid\n",
    "from torch.utils.data import DataLoader\n",
    "from torch.utils.tensorboard import SummaryWriter\n",
    " \n",
    "dataset=torchvision.datasets.CIFAR10(\"./dataset\",train=False,transform=torchvision.transforms.ToTensor(),download=True)\n",
    "dataloader=DataLoader(dataset=dataset,batch_size=64,shuffle=True,drop_last=False)\n",
    " \n",
    "class test(nn.Module):\n",
    "    def __init__(self):\n",
    "        super(test, self).__init__()\n",
    "        #inplace:是否将input替换成output\n",
    "        self.relu1=ReLU(inplace=False)\n",
    "        self.sigmoid1=Sigmoid()\n",
    "    def forward(self,input):\n",
    "        output=self.sigmoid1(input)\n",
    "        output=self.sigmoid1(output)\n",
    "        return output\n",
    "test1=test()\n",
    " \n",
    "writer=SummaryWriter(\"log2\")\n",
    "step=0\n",
    "for data in dataloader:\n",
    "    imgs,t=data\n",
    "    writer.add_images(\"input\", imgs, step)\n",
    "    output=test1(imgs)\n",
    "    writer.add_images(\"output\", output, step)\n",
    "    step=step+1\n",
    "writer.close()"
   ]
  },
  {
   "cell_type": "markdown",
   "metadata": {
    "pycharm": {
     "name": "#%% md\n"
    }
   },
   "source": [
    "线性层"
   ]
  },
  {
   "cell_type": "markdown",
   "metadata": {
    "pycharm": {
     "name": "#%% md\n"
    }
   },
   "source": [
    "torch.nn.Linear(in_features, out_features, bias=True, device=None, dtype=None)\n",
    "\n",
    "in_features – size of each input sample\n",
    "\n",
    "out_features – size of each output sample\n",
    "\n",
    "bias – If set to False, the layer will not learn an additive bias. Default: True"
   ]
  },
  {
   "cell_type": "markdown",
   "metadata": {
    "pycharm": {
     "name": "#%% md\n"
    }
   },
   "source": [
    "将图片内容转化为一维："
   ]
  },
  {
   "cell_type": "code",
   "execution_count": null,
   "metadata": {
    "pycharm": {
     "name": "#%%\n"
    }
   },
   "outputs": [],
   "source": [
    "for data in dataloader:\n",
    "    imgs,t=data\n",
    "    print(imgs.shape)\n",
    "    output=torch.reshape(imgs,(64,1,1,-1))\n",
    "    print(output.shape)\n",
    " \n",
    "output：\n",
    "#torch.Size([64, 3, 32, 32])\n",
    "#torch.Size([64, 1, 1, 3072])"
   ]
  },
  {
   "cell_type": "markdown",
   "metadata": {
    "pycharm": {
     "name": "#%% md\n"
    }
   },
   "source": [
    "由此可见，将图片展开后，也就是inputsize为3072"
   ]
  },
  {
   "cell_type": "code",
   "execution_count": null,
   "metadata": {
    "pycharm": {
     "name": "#%%\n"
    }
   },
   "outputs": [],
   "source": [
    "import torch\n",
    "import torchvision\n",
    "from torch import nn\n",
    "from torch.nn import Linear\n",
    "from torch.utils.data import DataLoader\n",
    " \n",
    "dataset=torchvision.datasets.CIFAR10(\"dataset\",train=False,transform=torchvision.transforms.ToTensor(),\n",
    "                                    download=True)\n",
    "#这里不droplast后面会报错，因为linear1的定义是196608，而最后一组图片不够64张，最后的大小也不足196608\n",
    "dataloader=DataLoader(dataset,batch_size=64,drop_last=True)\n",
    " \n",
    "class test(nn.Module):\n",
    "    def __init__(self):\n",
    "        super(test, self).__init__()\n",
    "        self.linear1=Linear(3072,10)\n",
    "    def forward(self,input):\n",
    "        output=self.linear1(input)\n",
    "        return output\n",
    "test1=test()\n",
    "for data in dataloader:\n",
    "    imgs,t=data\n",
    "    print(imgs.shape)\n",
    "    #将图片线性化\n",
    "    output=torch.reshape(imgs,(64,1,1,-1))\n",
    "    #flatten也可以用\n",
    "    # output=torch.flatten(imgs)\n",
    "    print(output.shape)\n",
    "    output=test1(output)\n",
    "    print(output.shape)\n",
    " \n",
    "output：\n",
    "#torch.Size([64, 3, 32, 32])\n",
    "#torch.Size([64, 1, 1, 3072])\n",
    "#torch.Size([64, 1, 1, 10])"
   ]
  },
  {
   "cell_type": "markdown",
   "metadata": {
    "pycharm": {
     "name": "#%% md\n"
    }
   },
   "source": [
    "CIFAR10模型结构"
   ]
  },
  {
   "cell_type": "code",
   "execution_count": null,
   "metadata": {
    "pycharm": {
     "name": "#%%\n"
    }
   },
   "outputs": [],
   "source": [
    "import torch\n",
    "from torch import nn\n",
    " \n",
    "class test(nn.Module):\n",
    "    def __init__(self):\n",
    "        super(test, self).__init__()\n",
    "        #因为size_in和size_out都是32，经过计算得出padding=2，stride=1\n",
    "        self.conv1=nn.Conv2d(3,32,5,padding=2,stride=1)\n",
    "        self.pool1=nn.MaxPool2d(2)\n",
    "        #尺寸不变，和上面一样\n",
    "        self.conv2=nn.Conv2d(32,32,5,stride=1,padding=2)\n",
    "        self.pool2=nn.MaxPool2d(2)\n",
    "        # 尺寸不变，和上面一样\n",
    "        self.conv3=nn.Conv2d(32,64,5,stride=1,padding=2)\n",
    "        self.pool3 = nn.MaxPool2d(2)\n",
    "        self.flatten=nn.Flatten()\n",
    "        #in_feature:64*4*4,out_feature:64\n",
    "        self.linear1=nn.Linear(1024,64)\n",
    "        self.linear2=nn.Linear(64,10)\n",
    "    def forward(self,x):\n",
    "        x=self.conv1(x)\n",
    "        x = self.pool1(x)\n",
    "        x = self.conv2(x)\n",
    "        x = self.pool2(x)\n",
    "        x = self.conv3(x)\n",
    "        x = self.pool3(x)\n",
    "        x=self.flatten(x)\n",
    "        x=self.linear1(x)\n",
    "        x=self.linear2(x)\n",
    "        return x\n",
    "test1=test()\n",
    "#对网络结构进行检验\n",
    "input=torch.ones((64,3,32,32))\n",
    "output=test1(input)\n",
    "print(output.shape)\n",
    " \n",
    "output：\n",
    "#torch.Size([64, 10])"
   ]
  },
  {
   "cell_type": "markdown",
   "metadata": {
    "pycharm": {
     "name": "#%% md\n"
    }
   },
   "source": [
    "可以用nn.Sequential将代码变得更简洁："
   ]
  },
  {
   "cell_type": "code",
   "execution_count": null,
   "metadata": {
    "pycharm": {
     "name": "#%%\n"
    }
   },
   "outputs": [],
   "source": [
    "class test(nn.Module):\n",
    "    def __init__(self):\n",
    "        super(test, self).__init__()\n",
    " \n",
    "        self.model1=nn.Sequential(\n",
    "            nn.Conv2d(3, 32, 5, padding=2, stride=1),\n",
    "            nn.MaxPool2d(2),\n",
    "            nn.Conv2d(32, 32, 5, stride=1, padding=2),\n",
    "            nn.MaxPool2d(2),\n",
    "            nn.Conv2d(32, 64, 5, stride=1, padding=2),\n",
    "            nn.MaxPool2d(2),\n",
    "            nn.Flatten(),\n",
    "            nn.Linear(1024, 64),\n",
    "            nn.Linear(64, 10)\n",
    "        )\n",
    " \n",
    "    def forward(self,x):\n",
    "        x=self.model1(x)\n",
    "        return x"
   ]
  },
  {
   "cell_type": "markdown",
   "metadata": {
    "pycharm": {
     "name": "#%% md\n"
    }
   },
   "source": [
    "另：用SummaryWriter 的 add graph也可以可视化*比print高级一些"
   ]
  },
  {
   "cell_type": "markdown",
   "metadata": {
    "pycharm": {
     "name": "#%% md\n"
    }
   },
   "source": [
    "损失函数与反向传播"
   ]
  },
  {
   "cell_type": "markdown",
   "metadata": {
    "pycharm": {
     "name": "#%% md\n"
    }
   },
   "source": [
    "torch.nn-loss functions\n",
    "\n",
    "注意输入和输出的形式\n",
    "\n",
    "torch.nn.CrossEntropyLoss(weight=None, size_average=None, ignore_index=-100, reduce=None, reduction='mean')\n",
    "\n",
    "input has to be a Tensor of size either (minibatch, C)(minibatch,C) or (minibatch, C, d_1, d_2, ..., d_K)(minibatch,C,d1​,d2​,...,dK​)\n",
    "\n",
    "输入为神经网络最后对该图片的每种类型预测的概率（minibatch），与该图片的类型标签"
   ]
  },
  {
   "cell_type": "code",
   "execution_count": null,
   "metadata": {
    "pycharm": {
     "name": "#%%\n"
    }
   },
   "outputs": [],
   "source": [
    "test1=test()\n",
    "loss=nn.CrossEntropyLoss()\n",
    "for data in dataloader:\n",
    "    imgs,t=data\n",
    "    #output代表该图像是每种类别的概率\n",
    "    output=test1(imgs)\n",
    "    print(output)\n",
    "    print(t)\n",
    "    #实际输出和目标之间的差距\n",
    "    result_loss=loss(output,t)\n",
    " \n",
    "output：\n",
    "# tensor([[-0.0928, -0.0330,  0.0529,  0.1399, -0.1088,  0.0506, -0.0798,  0.0198,\n",
    "#           0.1653, -0.0215]], grad_fn=<AddmmBackward>)\n",
    "# tensor([7])\n",
    "# tensor(2.2961, grad_fn=<NllLossBackward>)"
   ]
  },
  {
   "cell_type": "markdown",
   "metadata": {
    "pycharm": {
     "name": "#%% md\n"
    }
   },
   "source": [
    "优化器"
   ]
  },
  {
   "cell_type": "markdown",
   "metadata": {
    "pycharm": {
     "name": "#%% md\n"
    }
   },
   "source": [
    "pytorch-optim\n",
    "\n",
    "在degug内查看gard：\n",
    "\n",
    "test1-conv1（或其他网络）-weight-grad"
   ]
  },
  {
   "cell_type": "code",
   "execution_count": null,
   "metadata": {
    "pycharm": {
     "name": "#%%\n"
    }
   },
   "outputs": [],
   "source": [
    "test1=test()\n",
    "#lossFunction模型\n",
    "loss=nn.CrossEntropyLoss()\n",
    "#优化器模型\n",
    "optim=torch.optim.SGD(test1.parameters(),0.01)\n",
    "#只对每张图片进行一轮学习\n",
    "for data in dataloader:\n",
    "    imgs,t=data\n",
    "    output=test1(imgs)\n",
    "    result_loss=loss(output,t)\n",
    "    #将每个梯度清为0（初始化）\n",
    "    optim.zero_grad()\n",
    "    #反向传播，得到每个可调节参数对应的梯度（grad不再是none）\n",
    "    result_loss.backward()\n",
    "    #对每个参数进行改变，weight-data被改变\n",
    "    optim.step()\n",
    "    print(result_loss)"
   ]
  },
  {
   "cell_type": "markdown",
   "metadata": {
    "pycharm": {
     "name": "#%% md\n"
    }
   },
   "source": [
    "尝试进行多次优化："
   ]
  },
  {
   "cell_type": "code",
   "execution_count": null,
   "metadata": {
    "pycharm": {
     "name": "#%%\n"
    }
   },
   "outputs": [],
   "source": [
    "test1=test()\n",
    "#lossFunction模型\n",
    "loss=nn.CrossEntropyLoss()\n",
    "#优化器模型\n",
    "optim=torch.optim.SGD(test1.parameters(),0.01)\n",
    "#进行20次优化\n",
    "for epcho in range (20):\n",
    "    running_loss=0.0\n",
    "    for data in dataloader:\n",
    "        imgs,t=data\n",
    "        output=test1(imgs)\n",
    "        result_loss=loss(output,t)\n",
    "        #将每个梯度清为0（初始化）\n",
    "        optim.zero_grad()\n",
    "        #反向传播，得到每个可调节参数对应的梯度（grad不再是none）\n",
    "        result_loss.backward()\n",
    "        #对每个参数进行改变，weight-data被改变\n",
    "        optim.step()\n",
    "        #计算每轮优化中每个变量的loss和\n",
    "        running_loss=running_loss+result_loss\n",
    "    print(running_loss)\n",
    " \n",
    "output：\n",
    "#总loss在逐渐变小\n",
    "# tensor(18712.0938, grad_fn= < AddBackward0 >)\n",
    "# tensor(16126.7949, grad_fn= < AddBackward0 >)\n",
    "# tensor(15382.0703, grad_fn= < AddBackward0 >)"
   ]
  },
  {
   "cell_type": "markdown",
   "metadata": {
    "pycharm": {
     "name": "#%% md\n"
    }
   },
   "source": [
    "现有网络模型使用及修改"
   ]
  },
  {
   "cell_type": "markdown",
   "metadata": {
    "pycharm": {
     "name": "#%% md\n"
    }
   },
   "source": [
    "vgg16："
   ]
  },
  {
   "cell_type": "code",
   "execution_count": null,
   "metadata": {
    "pycharm": {
     "name": "#%%\n"
    }
   },
   "outputs": [],
   "source": [
    "vgg16_f=torchvision.models.vgg16(pretrained=False)\n",
    "vgg16_t=torchvision.models.vgg16(pretrained=True)"
   ]
  },
  {
   "cell_type": "markdown",
   "metadata": {
    "pycharm": {
     "name": "#%% md\n"
    }
   },
   "source": [
    "可以看到vgg16最后输出1000个类，想要将这1000个类改成10个类："
   ]
  },
  {
   "cell_type": "code",
   "execution_count": null,
   "metadata": {
    "pycharm": {
     "name": "#%%\n"
    }
   },
   "outputs": [],
   "source": [
    "from torch import nn\n",
    " \n",
    "vgg16_f=torchvision.models.vgg16(pretrained=False)\n",
    "vgg16_t=torchvision.models.vgg16(pretrained=True)\n",
    "#改动网络\n",
    "#添加\n",
    "vgg16_t.add_module(\"add_linear\",nn.Linear(1000,10))\n",
    "#或改动\n",
    "vgg16_f.classifier[6]=nn.Linear(4096,10)\n",
    "print(vgg16_t)\n",
    "print(vgg16_f)"
   ]
  },
  {
   "cell_type": "markdown",
   "metadata": {
    "pycharm": {
     "name": "#%% md\n"
    }
   },
   "source": [
    "网络模型的保存与读取"
   ]
  },
  {
   "cell_type": "markdown",
   "metadata": {
    "pycharm": {
     "name": "#%% md\n"
    }
   },
   "source": [
    "保存：（以vgg16为例）"
   ]
  },
  {
   "cell_type": "code",
   "execution_count": null,
   "metadata": {
    "pycharm": {
     "name": "#%%\n"
    }
   },
   "outputs": [],
   "source": [
    "import torch\n",
    "import torchvision\n",
    "vgg16=torchvision.models.vgg16(pretrained=False)\n",
    "#方式1（.pth不是必须的）\n",
    "torch.save(vgg16,\"vgg16.pth\")\n",
    "#方式2：将参数保存为字典格式（官方推荐）\n",
    "torch.save(vgg16.state_dict(),\"vgg16_2.pth\")"
   ]
  },
  {
   "cell_type": "markdown",
   "metadata": {
    "pycharm": {
     "name": "#%% md\n"
    }
   },
   "source": [
    "读取："
   ]
  },
  {
   "cell_type": "code",
   "execution_count": null,
   "metadata": {
    "pycharm": {
     "name": "#%%\n"
    }
   },
   "outputs": [],
   "source": [
    "import torch\n",
    "import torchvision\n",
    "vgg16=torchvision.models.vgg16(pretrained=False)\n",
    "#方式一=》保存方式一(路径)\n",
    "model=torch.load(\"vgg16.pth\")\n",
    "print(model)\n",
    "#方式2=》字典格式\n",
    "#注意方式2要printvgg16这个模型，不能model=xxx，print（model）\n",
    "vgg16.load_state_dict(torch.load(\"vgg16_2.pth\"))\n",
    "print(vgg16)"
   ]
  },
  {
   "cell_type": "markdown",
   "metadata": {
    "pycharm": {
     "name": "#%% md\n"
    }
   },
   "source": [
    "注意，以方式一形式读取自定义模型时要先将该模型复制或引用到读取文件中，否则会报错"
   ]
  },
  {
   "cell_type": "markdown",
   "metadata": {
    "pycharm": {
     "name": "#%% md\n"
    }
   },
   "source": [
    "完整模型训练"
   ]
  },
  {
   "cell_type": "markdown",
   "metadata": {
    "pycharm": {
     "name": "#%% md\n"
    }
   },
   "source": [
    "准备数据，加载数据，搭建网络，创建网络，设置损失函数，设置优化器，设置训练参数（epoch，训练次数，测试次数）开始训练（取数据，进网络，算loss，梯度清零，反向传播，网络优化），最后验证（无梯度，取数据，进网络，算loss，loss求和，求精度，精度求和），结果聚合展示\n",
    "\n",
    "\n",
    "\n",
    "载入模型、数据\n",
    "\n",
    "加载数据\n",
    "\n",
    "创建网络模型\n",
    "\n",
    "初始化损失函数、优化器\n",
    "\n",
    "设置训练网络的参数（训练、测试次数、轮数）\n",
    "\n",
    "添加tensorboard（可视化）\n",
    "\n",
    "for epoch：\n",
    "\n",
    "        for data in trainloader：\n",
    "\n",
    "                分割数据，loss，清零，反向，优化\n",
    "\n",
    "        for data in testloader：\n",
    "\n",
    "                分割数据，计算准确度\n",
    "\n",
    "展现每轮总loss，特定步数loss，保存模型\n",
    "\n",
    "准确度计算思路：找出最大预测结果与target相同的图片数量，用其除以图片总数\n",
    "\n",
    "\n",
    "测试思路：path，open，convert，transform（包含resize和totensor），网络模型，加载网络模型，reshape，无梯度，argmax\n"
   ]
  },
  {
   "cell_type": "code",
   "execution_count": null,
   "metadata": {
    "pycharm": {
     "name": "#%%\n"
    }
   },
   "outputs": [],
   "source": [
    "import torch\n",
    "import torchvision\n",
    "from torch import nn\n",
    "from torch.utils.data import DataLoader\n",
    "from torch.utils.tensorboard import SummaryWriter\n",
    "#import自己写的models\n",
    "from p27_1model import *\n",
    " \n",
    "train_data=torchvision.datasets.CIFAR10(\"../datasets\",train=True,transform=torchvision.transforms.ToTensor(),\n",
    "                                        download=True)\n",
    "test_data=torchvision.datasets.CIFAR10(\"../datasets\",train=False,transform=torchvision.transforms.ToTensor(),\n",
    "                                        download=True)\n",
    "#查看数据集长度\n",
    "train_size=len(train_data)\n",
    "test_size=len(test_data)\n",
    "print(\"size of train,test is:{},{}\".format(train_size,test_size))\n",
    "#利用dataloader加载\n",
    "train_dataloader=DataLoader(train_data,64)\n",
    "test_dataloader=DataLoader(test_data,64)\n",
    "#创建网络模型\n",
    "test1=test()\n",
    "#损失函数\n",
    "loss_f=nn.CrossEntropyLoss()\n",
    "#优化器\n",
    "#1e-2=0.01\n",
    "learning_rate=1e-2\n",
    "opt=torch.optim.SGD(test1.parameters(),lr=learning_rate,)\n",
    "#设置训练网络的参数\n",
    "#记录训练次数\n",
    "train_step=0\n",
    "#测试次数\n",
    "test_step=0\n",
    "#训练轮数\n",
    "epoch=10\n",
    "#添加tensoeboard\n",
    "writer=SummaryWriter(\"train_log\")\n",
    " \n",
    " \n",
    "for i in range(epoch):\n",
    "    print(\"第{}轮训练开始\".format(i+1))\n",
    "    #训练步骤开始\n",
    "    #有时不必要：test1.train()\n",
    "    for data in train_dataloader:\n",
    "        imgs,t=data\n",
    "        output=test1(imgs)\n",
    "        loss=loss_f(output,t)\n",
    "        #优化器优化模型\n",
    "        opt.zero_grad()\n",
    "        loss.backward()\n",
    "        opt.step()\n",
    "        train_step=train_step+1\n",
    "        #loss.item更加规范（.item不会打印数据类型，例如tensor(5))\n",
    "        if train_step%100==0:\n",
    "            print(\"训练次数{}，loss值为{}\".format(train_step,loss.item()))\n",
    "            writer.add_scalar(\"train_loss\",loss.item(),train_step)\n",
    "    loss_total=0\n",
    "    #测试步骤开始\n",
    "    #有时不必要：test1.eval()\n",
    "    total_correct=0\n",
    "    with torch.no_grad():\n",
    "        for data in test_dataloader:\n",
    "            imgs,t=data\n",
    "            output=test1(imgs)\n",
    "            loss=loss_f(output,t)\n",
    "            loss_total=loss_total+loss.item()\n",
    "            test_step=test_step+1\n",
    "            #argmax参数：1为横向比较，2为纵向比较，output为64,10的矩阵\n",
    "            #output.argmax(1)==t是为了得到[Ture,False,True....]这种形式\n",
    "            #.sum:T为1，F为0\n",
    "            corect=(output.argmax(1)==t).sum()\n",
    "            total_correct=total_correct+corect\n",
    "            accuracy=total_correct/test_size\n",
    "    print(\"测试集总loss{}\".format(loss_total))\n",
    "    writer.add_scalar(\"test_loss\",loss_total,test_step)\n",
    "    writer.add_scalar(\"accuracy\",accuracy,test_step)\n",
    " \n",
    "    torch.save(test1,\"test1{}.pth\".format(i))\n",
    "    print(\"模型已保存\")\n",
    " "
   ]
  },
  {
   "cell_type": "markdown",
   "metadata": {
    "pycharm": {
     "name": "#%% md\n"
    }
   },
   "source": [
    "利用gpu训练"
   ]
  },
  {
   "cell_type": "markdown",
   "metadata": {
    "pycharm": {
     "name": "#%% md\n"
    }
   },
   "source": [
    "改动：\n",
    "\n",
    "网络模型创建实例、损失函数、分割数据集（输入和标注）时加.cuda()"
   ]
  },
  {
   "cell_type": "code",
   "execution_count": null,
   "metadata": {
    "pycharm": {
     "name": "#%%\n"
    }
   },
   "outputs": [],
   "source": [
    "test1=test()\n",
    "if torch.cuda.is_available()==True:\n",
    "    test1.cuda()"
   ]
  },
  {
   "cell_type": "code",
   "execution_count": null,
   "metadata": {
    "pycharm": {
     "name": "#%%\n"
    }
   },
   "outputs": [],
   "source": [
    "loss_f=nn.CrossEntropyLoss()\n",
    "if torch.cuda.is_available()==True:\n",
    "    loss_f=loss_f.cuda()"
   ]
  },
  {
   "cell_type": "code",
   "execution_count": null,
   "metadata": {
    "pycharm": {
     "name": "#%%\n"
    }
   },
   "outputs": [],
   "source": [
    "    for data in train_dataloader:\n",
    "        imgs,t=data\n",
    "        if torch.cuda.is_available() == True:\n",
    "            imgs=imgs.cuda()\n",
    "            t=t.cuda()"
   ]
  },
  {
   "cell_type": "markdown",
   "metadata": {
    "pycharm": {
     "name": "#%% md\n"
    }
   },
   "source": [
    "MNIST数据集训练："
   ]
  },
  {
   "cell_type": "code",
   "execution_count": null,
   "metadata": {
    "pycharm": {
     "name": "#%%\n"
    }
   },
   "outputs": [],
   "source": [
    "import os\n",
    "import shutil\n",
    "\n",
    "import torch\n",
    "import torch.nn as nn\n",
    "from torch.utils.data import DataLoader\n",
    "from torch.utils.tensorboard import SummaryWriter\n",
    "from torchvision import datasets, transforms\n",
    "\n",
    "# 定义训练设备\n",
    "device = torch.device(\"cuda\")\n",
    "# 准备训练集、测试集\n",
    "train_dataset = datasets.MNIST(root=\"MNIST\", train=True, download=True,\n",
    "                               transform=transforms.ToTensor())\n",
    "test_dataset = datasets.MNIST(root=\"MNIST\", train=False, download=True,\n",
    "                              transform=transforms.ToTensor())\n",
    "# len\n",
    "train_data_size = len(train_dataset)\n",
    "test_data_size = len(test_dataset)\n",
    "# 用dataloader加载数据\n",
    "train_dataloader = DataLoader(dataset=train_dataset, batch_size=64, shuffle=True)\n",
    "test_dataloader = DataLoader(dataset=test_dataset, batch_size=64, shuffle=True)\n",
    "\n",
    "\n",
    "# 搭建网络模型\n",
    "class Net(nn.Module):\n",
    "    def __init__(self):\n",
    "        super(Net, self).__init__()\n",
    "        self.conv1 = torch.nn.Sequential(torch.nn.Conv2d(1, 64, kernel_size=3, stride=1, padding=1),\n",
    "                                         torch.nn.ReLU(),\n",
    "                                         torch.nn.Conv2d(64, 128, kernel_size=3, stride=1, padding=1),\n",
    "                                         torch.nn.ReLU(),\n",
    "                                         torch.nn.MaxPool2d(stride=2, kernel_size=2))\n",
    "        self.dense = torch.nn.Sequential(torch.nn.Linear(14 * 14 * 128, 1024),\n",
    "                                         torch.nn.ReLU(),\n",
    "                                         torch.nn.Dropout(p=0.5),\n",
    "                                         torch.nn.Linear(1024, 10))\n",
    "\n",
    "    def forward(self, x):\n",
    "        x = self.conv1(x)\n",
    "        x = x.view(-1, 14 * 14 * 128)\n",
    "        x = self.dense(x)\n",
    "        return x\n",
    "\n",
    "\n",
    "# 创建网络模型\n",
    "net = Net()\n",
    "net = net.to(device)\n",
    "# 定义损失函数\n",
    "loss_func = nn.CrossEntropyLoss()\n",
    "loss_func = loss_func.to(device)\n",
    "# 定义优化器\n",
    "learning_rate = 1e-3\n",
    "optimizer = torch.optim.Adam(params=net.parameters(), lr=learning_rate)\n",
    "# 设置训练网络的一些参数\n",
    "# 记录训练次数\n",
    "total_train_step = 0\n",
    "# 记录测试次数\n",
    "total_test_step = 0\n",
    "# 训练轮数\n",
    "epoch = 5\n",
    "# 添加tensorboard\n",
    "logs_path = \"logs_mnist\"\n",
    "if os.path.exists(logs_path):\n",
    "    shutil.rmtree(logs_path)\n",
    "writer = SummaryWriter(logs_path)\n",
    "\n",
    "for i in range(epoch):\n",
    "    print(\"------第{}轮训练开始------\".format(i + 1))\n",
    "    net.train()\n",
    "    for data in train_dataloader:\n",
    "        images, targets = data\n",
    "        images = images.to(device)\n",
    "        targets = targets.to(device)\n",
    "        opt = net(images)\n",
    "        loss = loss_func(opt, targets)\n",
    "        optimizer.zero_grad()\n",
    "        loss.backward()\n",
    "        optimizer.step()\n",
    "        # 一轮训练结束\n",
    "        total_train_step += 1\n",
    "        if total_train_step % 100 == 0:\n",
    "            print(\"训练次数:{},loss:{}\".format(total_train_step, loss))\n",
    "            writer.add_scalar(\"train_loss\", loss.item(), total_train_step)\n",
    "    net.eval()\n",
    "    total_test_loss = 0\n",
    "    total_accuracy = 0\n",
    "    with torch.no_grad():\n",
    "        for data in test_dataloader:\n",
    "            images, targets = data\n",
    "            images = images.to(device)\n",
    "            targets = targets.to(device)\n",
    "            opt = net(images)\n",
    "            loss = loss_func(opt, targets)\n",
    "            total_test_loss += loss\n",
    "            accuracy = (opt.argmax(1) == targets).sum()\n",
    "            total_accuracy += accuracy\n",
    "        print(\"第{}轮训练整体测试集上的loss：{}\".format(total_test_step + 1, total_test_loss))\n",
    "        print(\"第{}轮训练整体测试集上的正确率：{}\".format(total_test_step + 1, total_accuracy / test_data_size))\n",
    "        writer.add_scalar(\"test_loss\", total_test_loss, total_train_step)\n",
    "        writer.add_scalar(\"test_accuracy\", total_accuracy / test_data_size, total_test_step)\n",
    "        if (total_accuracy / test_data_size) >= 0.99:\n",
    "            torch.save(net, \"mnist.pth\")\n",
    "        total_test_step += 1\n"
   ]
  },
  {
   "cell_type": "markdown",
   "metadata": {
    "pycharm": {
     "name": "#%% md\n"
    }
   },
   "source": [
    "bp神经网络"
   ]
  },
  {
   "cell_type": "code",
   "execution_count": null,
   "metadata": {
    "pycharm": {
     "name": "#%%\n"
    }
   },
   "outputs": [],
   "source": [
    "import numpy as np\n",
    "import torch\n",
    "import matplotlib.pyplot as plt\n",
    "\n",
    "# prepare dataset\n",
    "xy = np.loadtxt('diabetes.csv.gz', delimiter=',', dtype=np.float32)\n",
    "x_data = torch.from_numpy(xy[:, :-1])  # 第一个‘：’是指读取所有行，第二个‘：’是指从第一列开始，最后一列不要\n",
    "y_data = torch.from_numpy(xy[:, [-1]])  # [-1] 最后得到的是个矩阵\n",
    "# design model using class\n",
    "\n",
    "\n",
    "class Model(torch.nn.Module):\n",
    "    def __init__(self):\n",
    "        super(Model, self).__init__()\n",
    "        self.linear1 = torch.nn.Linear(8, 6)  # 输入数据x的特征是8维，x有8个特征\n",
    "        self.linear2 = torch.nn.Linear(6, 4)\n",
    "        self.linear3 = torch.nn.Linear(4, 1)\n",
    "        self.sigmoid = torch.nn.Sigmoid()  # 将其看作是网络的一层，而不是简单的函数使用\n",
    "\n",
    "    def forward(self, x):\n",
    "        x = self.sigmoid(self.linear1(x))\n",
    "        x = self.sigmoid(self.linear2(x))\n",
    "        x = self.sigmoid(self.linear3(x))  # y hat\n",
    "        return x\n",
    "\n",
    "\n",
    "model = Model()\n",
    "\n",
    "# construct loss and optimizer\n",
    "# criterion = torch.nn.BCELoss(size_average = True)\n",
    "criterion = torch.nn.BCELoss(reduction='mean')\n",
    "optimizer = torch.optim.SGD(model.parameters(), lr=0.1)\n",
    "\n",
    "epoch_list = []\n",
    "loss_list = []\n",
    "# training cycle forward, backward, update\n",
    "for epoch in range(100):\n",
    "    y_pred = model(x_data)\n",
    "    loss = criterion(y_pred, y_data)\n",
    "    accuracy = (y_pred.argmax(1) == y_data).sum()\n",
    "    print(\"epoch:\", epoch, \"loss:\", loss.item())\n",
    "    epoch_list.append(epoch)\n",
    "    loss_list.append(loss.item())\n",
    "\n",
    "    optimizer.zero_grad()\n",
    "    loss.backward()\n",
    "\n",
    "    optimizer.step()\n",
    "\n",
    "plt.plot(epoch_list, loss_list)\n",
    "plt.ylabel('loss')\n",
    "plt.xlabel('epoch')\n",
    "plt.show()\n"
   ]
  }
 ],
 "metadata": {
  "kernelspec": {
   "display_name": "Python 3.8.13 ('torch')",
   "language": "python",
   "name": "python3"
  },
  "language_info": {
   "codemirror_mode": {
    "name": "ipython",
    "version": 3
   },
   "file_extension": ".py",
   "mimetype": "text/x-python",
   "name": "python",
   "nbconvert_exporter": "python",
   "pygments_lexer": "ipython3",
   "version": "3.8.13"
  },
  "orig_nbformat": 4,
  "vscode": {
   "interpreter": {
    "hash": "f31b5846fe4d0e510ff280a80fa1fd1567c5c662c3b99a86eb737e0309da4a2e"
   }
  }
 },
 "nbformat": 4,
 "nbformat_minor": 2
}